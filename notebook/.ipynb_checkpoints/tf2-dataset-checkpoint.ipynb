{
 "cells": [
  {
   "cell_type": "code",
   "execution_count": 2,
   "id": "characteristic-fantasy",
   "metadata": {},
   "outputs": [],
   "source": [
    "import tensorflow as tf\n",
    "import numpy as np"
   ]
  },
  {
   "cell_type": "code",
   "execution_count": 4,
   "id": "selected-ancient",
   "metadata": {},
   "outputs": [],
   "source": [
    "import pathlib\n",
    "import os\n",
    "import matplotlib.pyplot as plt\n",
    "import pandas as pd"
   ]
  },
  {
   "cell_type": "code",
   "execution_count": 23,
   "id": "desirable-owner",
   "metadata": {},
   "outputs": [
    {
     "name": "stdout",
     "output_type": "stream",
     "text": [
      "[8 3 0 8 2 1]\n",
      "<TensorSliceDataset shapes: (), types: tf.int64>\n"
     ]
    }
   ],
   "source": [
    "\"\"\"\n",
    "Input pipeline starts with data source. Construct dataset from data in memory.\n",
    "\"\"\"\n",
    "data = np.array([8, 3, 0,8,2, 1])\n",
    "print(data)\n",
    "dataset = tf.data.Dataset.from_tensor_slices(data)\n",
    "print(dataset)\n",
    "# Can be transformed to new Dataset, by chaining method calls on Dataset object.\n",
    "# e.g.\n",
    "# per element: Dataset.map()\n",
    "# multi-element: Dataset.batch()\n"
   ]
  },
  {
   "cell_type": "code",
   "execution_count": 24,
   "id": "universal-footage",
   "metadata": {},
   "outputs": [
    {
     "name": "stdout",
     "output_type": "stream",
     "text": [
      "8\n",
      "3\n",
      "0\n",
      "8\n",
      "2\n",
      "1\n"
     ]
    }
   ],
   "source": [
    "# Dataset is iterable:\n",
    "for elem in dataset:\n",
    "    print(elem.numpy())"
   ]
  },
  {
   "cell_type": "code",
   "execution_count": 25,
   "id": "excess-yemen",
   "metadata": {},
   "outputs": [
    {
     "name": "stdout",
     "output_type": "stream",
     "text": [
      "22\n"
     ]
    }
   ],
   "source": [
    "# Dataset elements can be consumed using reduce transformation. Reduces elements to produce a single result\n",
    "print(dataset.reduce(0, lambda state, value: state + tf.cast(value, state.dtype)).numpy())"
   ]
  },
  {
   "cell_type": "code",
   "execution_count": 27,
   "id": "clean-beverage",
   "metadata": {},
   "outputs": [
    {
     "name": "stdout",
     "output_type": "stream",
     "text": [
      "<class 'tensorflow.python.framework.type_spec.TypeSpec'>\n"
     ]
    }
   ],
   "source": [
    "\"\"\"\n",
    "Dataset elements all have the same netsted strucute, \n",
    "and individual components of the strucutre can be of any tf.TypeSpec type.\n",
    "\n",
    "dataset.element_spec\n",
    "\n",
    "tf.Tensor\n",
    "tf.sparse.SparseTensor\n",
    "tf.RaggedTensor\n",
    "tf.TensorArray\n",
    "tf.data.Dataset\n",
    "\n",
    "Dataset.element_spec allows inspecting the type of each element component.\n",
    "-> Is returned as nested strucutre of tf.TypeSpec\n",
    "\"\"\"\n",
    "print(tf.TypeSpec)"
   ]
  },
  {
   "cell_type": "code",
   "execution_count": 30,
   "id": "necessary-acrylic",
   "metadata": {},
   "outputs": [],
   "source": [
    "# Data can be loaded from numpy arrays\n",
    "train, test = tf.keras.datasets.fashion_mnist.load_data()"
   ]
  },
  {
   "cell_type": "code",
   "execution_count": 49,
   "id": "standard-arabic",
   "metadata": {},
   "outputs": [],
   "source": [
    "images, labels = train\n",
    "images = images/255 # normalize"
   ]
  },
  {
   "cell_type": "code",
   "execution_count": 50,
   "id": "according-grain",
   "metadata": {},
   "outputs": [
    {
     "data": {
      "text/plain": [
       "dtype('float64')"
      ]
     },
     "execution_count": 50,
     "metadata": {},
     "output_type": "execute_result"
    }
   ],
   "source": [
    "images.dtype"
   ]
  },
  {
   "cell_type": "code",
   "execution_count": 51,
   "id": "annual-publisher",
   "metadata": {},
   "outputs": [
    {
     "data": {
      "text/plain": [
       "dtype('uint8')"
      ]
     },
     "execution_count": 51,
     "metadata": {},
     "output_type": "execute_result"
    }
   ],
   "source": [
    "labels.dtype"
   ]
  },
  {
   "cell_type": "code",
   "execution_count": 53,
   "id": "elect-program",
   "metadata": {},
   "outputs": [
    {
     "data": {
      "text/plain": [
       "<TensorSliceDataset shapes: ((28, 28), ()), types: (tf.float64, tf.uint8)>"
      ]
     },
     "execution_count": 53,
     "metadata": {},
     "output_type": "execute_result"
    }
   ],
   "source": [
    "dataset = tf.data.Dataset.from_tensor_slices((images, labels))\n",
    "dataset"
   ]
  },
  {
   "cell_type": "code",
   "execution_count": 56,
   "id": "tutorial-microphone",
   "metadata": {},
   "outputs": [
    {
     "data": {
      "text/plain": [
       "(TensorSpec(shape=(28, 28), dtype=tf.float64, name=None),\n",
       " TensorSpec(shape=(), dtype=tf.uint8, name=None))"
      ]
     },
     "execution_count": 56,
     "metadata": {},
     "output_type": "execute_result"
    }
   ],
   "source": [
    "spec = dataset.element_spec\n",
    "spec"
   ]
  },
  {
   "cell_type": "code",
   "execution_count": null,
   "id": "differential-guinea",
   "metadata": {},
   "outputs": [],
   "source": []
  }
 ],
 "metadata": {
  "kernelspec": {
   "display_name": "Python 3",
   "language": "python",
   "name": "python3"
  },
  "language_info": {
   "codemirror_mode": {
    "name": "ipython",
    "version": 3
   },
   "file_extension": ".py",
   "mimetype": "text/x-python",
   "name": "python",
   "nbconvert_exporter": "python",
   "pygments_lexer": "ipython3",
   "version": "3.8.5"
  }
 },
 "nbformat": 4,
 "nbformat_minor": 5
}
