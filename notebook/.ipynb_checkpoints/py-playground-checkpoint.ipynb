{
 "cells": [
  {
   "cell_type": "code",
   "execution_count": 1,
   "id": "fancy-experience",
   "metadata": {},
   "outputs": [],
   "source": [
    "import numpy as np"
   ]
  },
  {
   "cell_type": "code",
   "execution_count": 2,
   "id": "tested-minute",
   "metadata": {},
   "outputs": [],
   "source": [
    "arr = np.array([1,1,1])"
   ]
  },
  {
   "cell_type": "code",
   "execution_count": 3,
   "id": "israeli-drama",
   "metadata": {},
   "outputs": [
    {
     "data": {
      "text/plain": [
       "array([1, 1, 1])"
      ]
     },
     "execution_count": 3,
     "metadata": {},
     "output_type": "execute_result"
    }
   ],
   "source": [
    "arr"
   ]
  },
  {
   "cell_type": "code",
   "execution_count": 4,
   "id": "fourth-surname",
   "metadata": {},
   "outputs": [
    {
     "data": {
      "text/plain": [
       "array([[1],\n",
       "       [1],\n",
       "       [1]])"
      ]
     },
     "execution_count": 4,
     "metadata": {},
     "output_type": "execute_result"
    }
   ],
   "source": [
    "arr.reshape(-1,1)"
   ]
  },
  {
   "cell_type": "code",
   "execution_count": 5,
   "id": "rough-punch",
   "metadata": {},
   "outputs": [],
   "source": [
    "vertices = np.array([[1,2,3],[4,5,6],[7,8,9]])"
   ]
  },
  {
   "cell_type": "code",
   "execution_count": 6,
   "id": "failing-pendant",
   "metadata": {},
   "outputs": [
    {
     "data": {
      "text/plain": [
       "array([[1, 2, 3],\n",
       "       [4, 5, 6],\n",
       "       [7, 8, 9]])"
      ]
     },
     "execution_count": 6,
     "metadata": {},
     "output_type": "execute_result"
    }
   ],
   "source": [
    "vertices"
   ]
  },
  {
   "cell_type": "code",
   "execution_count": 11,
   "id": "instrumental-particle",
   "metadata": {},
   "outputs": [
    {
     "data": {
      "text/plain": [
       "array([[1, 2, 3, 1],\n",
       "       [4, 5, 6, 1],\n",
       "       [7, 8, 9, 1]])"
      ]
     },
     "execution_count": 11,
     "metadata": {},
     "output_type": "execute_result"
    }
   ],
   "source": [
    "verts = np.hstack((vertices, arr.reshape(-1,1)))\n",
    "verts"
   ]
  },
  {
   "cell_type": "code",
   "execution_count": 14,
   "id": "color-partner",
   "metadata": {},
   "outputs": [
    {
     "name": "stdout",
     "output_type": "stream",
     "text": [
      "[[-0.21848175 -0.88634026  0.40824829]\n",
      " [-0.52160897 -0.24750235 -0.81649658]\n",
      " [-0.8247362   0.39133557  0.40824829]]\n",
      "[1.69204756e+01 1.30288345e+00 4.06052205e-16]\n",
      "[[-0.47741395 -0.56989521 -0.66237647 -0.09248126]\n",
      " [ 0.66237647  0.09248126 -0.47741395 -0.56989521]\n",
      " [-0.17512402 -0.37502588  0.5501499  -0.72527392]\n",
      " [ 0.5501499  -0.72527392  0.17512402  0.37502588]]\n"
     ]
    }
   ],
   "source": [
    "u,s,v = np.linalg.svd(verts)\n",
    "print(u)\n",
    "print(s)\n",
    "print(v)"
   ]
  },
  {
   "cell_type": "code",
   "execution_count": 25,
   "id": "medical-minnesota",
   "metadata": {},
   "outputs": [
    {
     "data": {
      "text/plain": [
       "array([[ 0.5501499 ],\n",
       "       [-0.72527392],\n",
       "       [ 0.17512402],\n",
       "       [ 0.37502588]])"
      ]
     },
     "execution_count": 25,
     "metadata": {},
     "output_type": "execute_result"
    }
   ],
   "source": [
    "peq = v[-1,:].reshape(-1,1)\n",
    "peq"
   ]
  },
  {
   "cell_type": "code",
   "execution_count": 24,
   "id": "effective-silicon",
   "metadata": {},
   "outputs": [
    {
     "data": {
      "text/plain": [
       "array([[ 0.59346428],\n",
       "       [-0.78237616],\n",
       "       [ 0.18891188],\n",
       "       [ 0.4045524 ]])"
      ]
     },
     "execution_count": 24,
     "metadata": {},
     "output_type": "execute_result"
    }
   ],
   "source": [
    "npeq = peq/ (np.linalg.norm(peq[0:3]))\n",
    "npeq"
   ]
  },
  {
   "cell_type": "code",
   "execution_count": null,
   "id": "registered-grass",
   "metadata": {},
   "outputs": [],
   "source": []
  }
 ],
 "metadata": {
  "kernelspec": {
   "display_name": "Python 3",
   "language": "python",
   "name": "python3"
  },
  "language_info": {
   "codemirror_mode": {
    "name": "ipython",
    "version": 3
   },
   "file_extension": ".py",
   "mimetype": "text/x-python",
   "name": "python",
   "nbconvert_exporter": "python",
   "pygments_lexer": "ipython3",
   "version": "3.8.5"
  }
 },
 "nbformat": 4,
 "nbformat_minor": 5
}
