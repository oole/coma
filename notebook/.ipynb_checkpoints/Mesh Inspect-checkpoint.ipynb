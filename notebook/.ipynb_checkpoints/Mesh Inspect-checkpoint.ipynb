{
 "cells": [
  {
   "cell_type": "code",
   "execution_count": 68,
   "id": "magnetic-toolbox",
   "metadata": {},
   "outputs": [],
   "source": [
    "from opendr.topology import get_vert_connectivity, get_vertices_per_edge\n",
    "from psbody.mesh import Mesh\n",
    "import scipy.sparse as sparse\n",
    "import math\n",
    "import numpy as np\n",
    "import heapq\n"
   ]
  },
  {
   "cell_type": "code",
   "execution_count": 8,
   "id": "given-riding",
   "metadata": {},
   "outputs": [
    {
     "name": "stdout",
     "output_type": "stream",
     "text": [
      "<psbody.mesh.mesh.Mesh object at 0x7f182f2bdc70>\n"
     ]
    }
   ],
   "source": [
    "mesh = Mesh(filename=\"/home/oole/git/ma/coma/impl/data/test.obj\")\n",
    "print(mesh)"
   ]
  },
  {
   "cell_type": "code",
   "execution_count": 10,
   "id": "governing-rapid",
   "metadata": {},
   "outputs": [],
   "source": [
    "vertices = mesh.v\n",
    "faces = mesh.f"
   ]
  },
  {
   "cell_type": "code",
   "execution_count": 31,
   "id": "violent-oklahoma",
   "metadata": {},
   "outputs": [
    {
     "data": {
      "text/plain": [
       "array([[0, 1],\n",
       "       [1, 2],\n",
       "       [0, 3],\n",
       "       [2, 3],\n",
       "       [0, 4],\n",
       "       [1, 4],\n",
       "       [2, 4],\n",
       "       [3, 4]], dtype=int32)"
      ]
     },
     "execution_count": 31,
     "metadata": {},
     "output_type": "execute_result"
    }
   ],
   "source": [
    "adj_verts = get_vertices_per_edge(vertices, faces)\n",
    "adj_verts"
   ]
  },
  {
   "cell_type": "code",
   "execution_count": 30,
   "id": "acute-plaza",
   "metadata": {},
   "outputs": [
    {
     "data": {
      "text/plain": [
       "array([1, 1], dtype=int32)"
      ]
     },
     "execution_count": 30,
     "metadata": {},
     "output_type": "execute_result"
    }
   ],
   "source": [
    "np.full(len(adj_verts),1, dtype=np.int32)"
   ]
  },
  {
   "cell_type": "code",
   "execution_count": 33,
   "id": "stretch-turkish",
   "metadata": {},
   "outputs": [
    {
     "data": {
      "text/plain": [
       "(array([1, 1, 1, 1, 1, 1, 1, 1], dtype=int32),\n",
       " (array([0, 1, 0, 2, 0, 1, 2, 3], dtype=int32),\n",
       "  array([1, 2, 3, 3, 4, 4, 4, 4], dtype=int32)))"
      ]
     },
     "execution_count": 33,
     "metadata": {},
     "output_type": "execute_result"
    }
   ],
   "source": [
    "adj_verts = ((np.full(len(adj_verts),1, dtype=np.int32)), (adj_verts[:,0], adj_verts[:,1]))\n",
    "adj_verts"
   ]
  },
  {
   "cell_type": "code",
   "execution_count": 39,
   "id": "careful-fairy",
   "metadata": {},
   "outputs": [
    {
     "name": "stdout",
     "output_type": "stream",
     "text": [
      "  (0, 1)\t1\n",
      "  (1, 2)\t1\n",
      "  (0, 3)\t1\n",
      "  (2, 3)\t1\n",
      "  (0, 4)\t1\n",
      "  (1, 4)\t1\n",
      "  (2, 4)\t1\n",
      "  (3, 4)\t1\n"
     ]
    }
   ],
   "source": [
    "adj_verts = sparse.csc_matrix(adj_verts, shape=(len(mesh.v), len(mesh.v)))\n",
    "print(adj_verts)"
   ]
  },
  {
   "cell_type": "code",
   "execution_count": 41,
   "id": "reflected-return",
   "metadata": {},
   "outputs": [
    {
     "name": "stdout",
     "output_type": "stream",
     "text": [
      "  (1, 0)\t1\n",
      "  (2, 1)\t1\n",
      "  (3, 0)\t1\n",
      "  (3, 2)\t1\n",
      "  (4, 0)\t1\n",
      "  (4, 1)\t1\n",
      "  (4, 2)\t1\n",
      "  (4, 3)\t1\n"
     ]
    }
   ],
   "source": [
    "print(adj_verts.T)"
   ]
  },
  {
   "cell_type": "code",
   "execution_count": 46,
   "id": "agricultural-garden",
   "metadata": {},
   "outputs": [
    {
     "name": "stdout",
     "output_type": "stream",
     "text": [
      "  (1, 0)\t1\n",
      "  (3, 0)\t1\n",
      "  (4, 0)\t1\n",
      "  (0, 1)\t1\n",
      "  (2, 1)\t1\n",
      "  (4, 1)\t1\n",
      "  (1, 2)\t1\n",
      "  (3, 2)\t1\n",
      "  (4, 2)\t1\n",
      "  (0, 3)\t1\n",
      "  (2, 3)\t1\n",
      "  (4, 3)\t1\n",
      "  (0, 4)\t1\n",
      "  (1, 4)\t1\n",
      "  (2, 4)\t1\n",
      "  (3, 4)\t1\n"
     ]
    },
    {
     "data": {
      "text/plain": [
       "<5x5 sparse matrix of type '<class 'numpy.int32'>'\n",
       "\twith 16 stored elements in Compressed Sparse Column format>"
      ]
     },
     "execution_count": 46,
     "metadata": {},
     "output_type": "execute_result"
    }
   ],
   "source": [
    "print(adj_verts + adj_verts.T)\n",
    "adj_verts + adj_verts.T"
   ]
  },
  {
   "cell_type": "code",
   "execution_count": 51,
   "id": "environmental-allocation",
   "metadata": {},
   "outputs": [
    {
     "name": "stdout",
     "output_type": "stream",
     "text": [
      "  (1, 0)\t1\n",
      "  (3, 0)\t1\n",
      "  (4, 0)\t1\n",
      "  (0, 1)\t1\n",
      "  (2, 1)\t1\n",
      "  (4, 1)\t1\n",
      "  (1, 2)\t1\n",
      "  (3, 2)\t1\n",
      "  (4, 2)\t1\n",
      "  (0, 3)\t1\n",
      "  (2, 3)\t1\n",
      "  (4, 3)\t1\n",
      "  (0, 4)\t1\n",
      "  (1, 4)\t1\n",
      "  (2, 4)\t1\n",
      "  (3, 4)\t1\n"
     ]
    }
   ],
   "source": [
    "print((adj_verts+adj_verts.T).tocoo())\n",
    "adj_verts = (adj_verts+adj_verts.T).tocoo()"
   ]
  },
  {
   "cell_type": "code",
   "execution_count": 62,
   "id": "established-auction",
   "metadata": {},
   "outputs": [],
   "source": [
    "def vertex_quadrics(mesh):\n",
    "    \"\"\"\n",
    "    Computes a quadric for each vertex in the Mesh.\n",
    "    See: https://users.csc.calpoly.edu/~zwood/teaching/csc570/final06/jseeba/\n",
    "    Returns:\n",
    "       v_quadrics: an (N x 4 x 4) array, where N is # vertices.\n",
    "    \"\"\"\n",
    "\n",
    "    # Allocate quadrics\n",
    "    v_quadrics = np.zeros((len(mesh.v), 4, 4,))\n",
    "\n",
    "    # Each vertex is the solution of the intersection of a set of planes.\n",
    "    # Namely, the planes of the triangles/faces that meet at that vertex.\n",
    "    # Set of planes can be associated with each vertex.\n",
    "    # Error of vertex with respect to this set can be described as the sum of squared\n",
    "    # distances to its planes.\n",
    "\n",
    "    # Plane equation: ax + by + cz + d = 0, a^2+b^2+c^2 = 1\n",
    "\n",
    "    # For each face...\n",
    "    for f_idx in range(len(mesh.f)):\n",
    "\n",
    "        # Compute normalized plane equation for that face\n",
    "        vert_idxs = mesh.f[f_idx]\n",
    "        verts = np.hstack((mesh.v[vert_idxs], np.array([1, 1, 1]).reshape(-1, 1)))\n",
    "        #  Fitting plane from 3d points\n",
    "        # -> https://stackoverflow.com/questions/53591350/plane-fit-of-3d-points-with-singular-value-decomposition\n",
    "        # -> https://en.wikipedia.org/wiki/Singular_value_decomposition#Applications_Of_The_Svd\n",
    "        # -> https://math.stackexchange.com/questions/99299/best-fitting-plane-given-a-set-of-points\n",
    "        u, s, v = np.linalg.svd(verts)\n",
    "        # plane equation\n",
    "        eq = v[-1, :].reshape(-1, 1)\n",
    "        # normalize\n",
    "        eq = eq / (np.linalg.norm(eq[0:3]))\n",
    "\n",
    "        # Add the outer product of the plane equation to the\n",
    "        # quadrics of the vertices for this face\n",
    "        for k in range(3):\n",
    "            v_quadrics[mesh.f[f_idx, k], :, :] += np.outer(eq, eq)\n",
    "\n",
    "    return v_quadrics"
   ]
  },
  {
   "cell_type": "code",
   "execution_count": 61,
   "id": "proprietary-beach",
   "metadata": {},
   "outputs": [
    {
     "name": "stdout",
     "output_type": "stream",
     "text": [
      "0\n",
      "1\n",
      "-----------------\n",
      "1\n",
      "2\n",
      "-----------------\n",
      "0\n",
      "3\n",
      "-----------------\n",
      "2\n",
      "3\n",
      "-----------------\n",
      "0\n",
      "4\n",
      "-----------------\n",
      "1\n",
      "4\n",
      "-----------------\n",
      "2\n",
      "4\n",
      "-----------------\n",
      "3\n",
      "4\n",
      "-----------------\n"
     ]
    }
   ],
   "source": [
    "for i in range(adj_verts.nnz):\n",
    "    r= adj_verts.row[i]\n",
    "    c = adj_verts.col[i]\n",
    "    if (r <= c):\n",
    "        print(r)\n",
    "        print(c)\n",
    "        print(\"-----------------\")"
   ]
  },
  {
   "cell_type": "code",
   "execution_count": 63,
   "id": "japanese-biodiversity",
   "metadata": {},
   "outputs": [],
   "source": [
    "Qv = vertex_quadrics(mesh)"
   ]
  },
  {
   "cell_type": "code",
   "execution_count": 64,
   "id": "independent-telling",
   "metadata": {},
   "outputs": [
    {
     "data": {
      "text/plain": [
       "array([[[ 5.00000000e-01,  5.00000000e-01, -9.34259726e-17,\n",
       "         -5.00000000e-01],\n",
       "        [ 5.00000000e-01,  1.00000000e+00,  5.00000000e-01,\n",
       "         -1.00000000e+00],\n",
       "        [-9.34259726e-17,  5.00000000e-01,  5.00000000e-01,\n",
       "         -5.00000000e-01],\n",
       "        [-5.00000000e-01, -1.00000000e+00, -5.00000000e-01,\n",
       "          1.00000000e+00]],\n",
       "\n",
       "       [[ 5.00000000e-01,  5.00000000e-01, -9.34259726e-17,\n",
       "         -5.00000000e-01],\n",
       "        [ 5.00000000e-01,  1.00000000e+00, -5.00000000e-01,\n",
       "         -1.00000000e+00],\n",
       "        [-9.34259726e-17, -5.00000000e-01,  5.00000000e-01,\n",
       "          5.00000000e-01],\n",
       "        [-5.00000000e-01, -1.00000000e+00,  5.00000000e-01,\n",
       "          1.00000000e+00]],\n",
       "\n",
       "       [[ 5.00000000e-01, -5.00000000e-01, -9.34259726e-17,\n",
       "          5.00000000e-01],\n",
       "        [-5.00000000e-01,  1.00000000e+00, -5.00000000e-01,\n",
       "         -1.00000000e+00],\n",
       "        [-9.34259726e-17, -5.00000000e-01,  5.00000000e-01,\n",
       "          5.00000000e-01],\n",
       "        [ 5.00000000e-01, -1.00000000e+00,  5.00000000e-01,\n",
       "          1.00000000e+00]],\n",
       "\n",
       "       [[ 5.00000000e-01, -5.00000000e-01, -9.34259726e-17,\n",
       "          5.00000000e-01],\n",
       "        [-5.00000000e-01,  1.00000000e+00,  5.00000000e-01,\n",
       "         -1.00000000e+00],\n",
       "        [-9.34259726e-17,  5.00000000e-01,  5.00000000e-01,\n",
       "         -5.00000000e-01],\n",
       "        [ 5.00000000e-01, -1.00000000e+00, -5.00000000e-01,\n",
       "          1.00000000e+00]],\n",
       "\n",
       "       [[ 1.00000000e+00,  3.24704980e-17, -1.86851945e-16,\n",
       "         -3.24704980e-17],\n",
       "        [ 3.24704980e-17,  2.00000000e+00,  0.00000000e+00,\n",
       "         -2.00000000e+00],\n",
       "        [-1.86851945e-16,  0.00000000e+00,  1.00000000e+00,\n",
       "          0.00000000e+00],\n",
       "        [-3.24704980e-17, -2.00000000e+00,  0.00000000e+00,\n",
       "          2.00000000e+00]]])"
      ]
     },
     "execution_count": 64,
     "metadata": {},
     "output_type": "execute_result"
    }
   ],
   "source": [
    "Qv"
   ]
  },
  {
   "cell_type": "code",
   "execution_count": 65,
   "id": "standard-description",
   "metadata": {},
   "outputs": [],
   "source": [
    "def collapse_cost(qv, r, c, v):\n",
    "    Qsum = Qv[r, :, :] + Qv[c, :, :]\n",
    "    p1 = np.vstack((v[r].reshape(-1, 1), np.array([1]).reshape(-1, 1)))\n",
    "    p2 = np.vstack((v[c].reshape(-1, 1), np.array([1]).reshape(-1, 1)))\n",
    "\n",
    "    destroy_c_cost = p1.T.dot(Qsum).dot(p1)\n",
    "    destroy_r_cost = p2.T.dot(Qsum).dot(p2)\n",
    "    result = {\n",
    "        'destroy_c_cost': destroy_c_cost,\n",
    "        'destroy_r_cost': destroy_r_cost,\n",
    "        'collapse_cost': min([destroy_c_cost, destroy_r_cost]),\n",
    "        'Qsum': Qsum}\n",
    "    return result"
   ]
  },
  {
   "cell_type": "code",
   "execution_count": 77,
   "id": "bottom-arbitration",
   "metadata": {},
   "outputs": [
    {
     "name": "stdout",
     "output_type": "stream",
     "text": [
      "r 0\n",
      "c 1\n",
      "----\n",
      "r 1\n",
      "c 2\n",
      "----\n",
      "r 0\n",
      "c 3\n",
      "----\n",
      "r 2\n",
      "c 3\n",
      "----\n",
      "r 0\n",
      "c 4\n",
      "----\n",
      "r 1\n",
      "c 4\n",
      "----\n",
      "r 2\n",
      "c 4\n",
      "----\n",
      "r 3\n",
      "c 4\n",
      "----\n"
     ]
    }
   ],
   "source": [
    "queue = []\n",
    "for k in range(adj_verts.nnz):\n",
    "    r= adj_verts.row[k]\n",
    "    c = adj_verts.col[k]\n",
    "    if (r > c):\n",
    "        continue\n",
    "    print(\"r \" + str(r))\n",
    "    print(\"c \" + str(c))\n",
    "    print(\"----\")\n",
    "    cost = collapse_cost(Qv, r, c, mesh.v)['collapse_cost']\n",
    "    heapq.heappush(queue, (cost, (r,c,)))"
   ]
  },
  {
   "cell_type": "code",
   "execution_count": 72,
   "id": "rural-cemetery",
   "metadata": {},
   "outputs": [
    {
     "data": {
      "text/plain": [
       "[(array([[0.]]), (0, 4)),\n",
       " (array([[0.]]), (3, 4)),\n",
       " (array([[0.]]), (1, 4)),\n",
       " (array([[2.]]), (0, 1)),\n",
       " (array([[2.]]), (1, 2)),\n",
       " (array([[2.]]), (0, 3)),\n",
       " (array([[0.]]), (2, 4)),\n",
       " (array([[2.]]), (2, 3))]"
      ]
     },
     "execution_count": 72,
     "metadata": {},
     "output_type": "execute_result"
    }
   ],
   "source": [
    "queue"
   ]
  },
  {
   "cell_type": "code",
   "execution_count": 83,
   "id": "cosmetic-extra",
   "metadata": {},
   "outputs": [
    {
     "name": "stdout",
     "output_type": "stream",
     "text": [
      "[1. 0. 1.]\n",
      "[[ 5.00000000e-01  5.00000000e-01 -9.34259726e-17 -5.00000000e-01]\n",
      " [ 5.00000000e-01  1.00000000e+00  5.00000000e-01 -1.00000000e+00]\n",
      " [-9.34259726e-17  5.00000000e-01  5.00000000e-01 -5.00000000e-01]\n",
      " [-5.00000000e-01 -1.00000000e+00 -5.00000000e-01  1.00000000e+00]]\n",
      "----\n",
      "[[ 5.00000000e-01  5.00000000e-01 -9.34259726e-17 -5.00000000e-01]\n",
      " [ 5.00000000e-01  1.00000000e+00 -5.00000000e-01 -1.00000000e+00]\n",
      " [-9.34259726e-17 -5.00000000e-01  5.00000000e-01  5.00000000e-01]\n",
      " [-5.00000000e-01 -1.00000000e+00  5.00000000e-01  1.00000000e+00]]\n",
      "----\n",
      "Qsum: [[ 1.00000000e+00  1.00000000e+00 -1.86851945e-16 -1.00000000e+00]\n",
      " [ 1.00000000e+00  2.00000000e+00  2.22044605e-16 -2.00000000e+00]\n",
      " [-1.86851945e-16  2.22044605e-16  1.00000000e+00 -2.22044605e-16]\n",
      " [-1.00000000e+00 -2.00000000e+00 -2.22044605e-16  2.00000000e+00]]\n",
      "----\n",
      "[[1.]\n",
      " [0.]\n",
      " [1.]\n",
      " [1.]]\n",
      "----\n",
      "[[ 1.]\n",
      " [ 0.]\n",
      " [-1.]\n",
      " [ 1.]]\n"
     ]
    }
   ],
   "source": [
    "# what's going on in collapsecost? :\n",
    "r = 0\n",
    "c = 1\n",
    "qr = Qv[r, :, :]\n",
    "qc = Qv[c, :, :]\n",
    "Qsum = qr+qc\n",
    "p1 = np.vstack((mesh.v[r].reshape(-1, 1), np.array([1]).reshape(-1, 1)))\n",
    "p2 = np.vstack((mesh.v[c].reshape(-1, 1), np.array([1]).reshape(-1, 1)))\n",
    "print(mesh.v[r])\n",
    "print(qr)\n",
    "print(\"----\")\n",
    "print(qc)\n",
    "print(\"----\")\n",
    "print(\"Qsum: \" +str(Qsum))\n",
    "print(\"----\")\n",
    "print(p1)\n",
    "print(\"----\")\n",
    "print(p2)"
   ]
  },
  {
   "cell_type": "code",
   "execution_count": 84,
   "id": "grave-soccer",
   "metadata": {},
   "outputs": [
    {
     "data": {
      "text/plain": [
       "array([[1.11022302e-15]])"
      ]
     },
     "execution_count": 84,
     "metadata": {},
     "output_type": "execute_result"
    }
   ],
   "source": [
    "p1.T.dot(Qsum).dot(p2)"
   ]
  },
  {
   "cell_type": "code",
   "execution_count": 85,
   "id": "incoming-palmer",
   "metadata": {},
   "outputs": [
    {
     "data": {
      "text/plain": [
       "[(array([[0.]]), (0, 4)),\n",
       " (array([[0.]]), (3, 4)),\n",
       " (array([[0.]]), (1, 4)),\n",
       " (array([[2.]]), (0, 1)),\n",
       " (array([[2.]]), (1, 2)),\n",
       " (array([[2.]]), (0, 3)),\n",
       " (array([[0.]]), (2, 4)),\n",
       " (array([[2.]]), (2, 3))]"
      ]
     },
     "execution_count": 85,
     "metadata": {},
     "output_type": "execute_result"
    }
   ],
   "source": [
    "queue"
   ]
  },
  {
   "cell_type": "code",
   "execution_count": 89,
   "id": "pending-debate",
   "metadata": {},
   "outputs": [
    {
     "ename": "TypeError",
     "evalue": "'tuple' object does not support item assignment",
     "output_type": "error",
     "traceback": [
      "\u001b[0;31m---------------------------------------------------------------------------\u001b[0m",
      "\u001b[0;31mTypeError\u001b[0m                                 Traceback (most recent call last)",
      "\u001b[0;32m<ipython-input-89-026a18eb167e>\u001b[0m in \u001b[0;36m<module>\u001b[0;34m\u001b[0m\n\u001b[0;32m----> 1\u001b[0;31m \u001b[0mqueue\u001b[0m\u001b[0;34m[\u001b[0m\u001b[0;36m0\u001b[0m\u001b[0;34m]\u001b[0m\u001b[0;34m[\u001b[0m\u001b[0;36m1\u001b[0m\u001b[0;34m]\u001b[0m\u001b[0;34m[\u001b[0m\u001b[0;36m0\u001b[0m\u001b[0;34m]\u001b[0m \u001b[0;34m=\u001b[0m \u001b[0;36m5\u001b[0m\u001b[0;34m\u001b[0m\u001b[0;34m\u001b[0m\u001b[0m\n\u001b[0m",
      "\u001b[0;31mTypeError\u001b[0m: 'tuple' object does not support item assignment"
     ]
    }
   ],
   "source": [
    "queue[0][1][0] = 5"
   ]
  },
  {
   "cell_type": "code",
   "execution_count": 90,
   "id": "capable-albany",
   "metadata": {},
   "outputs": [],
   "source": [
    "faces = mesh.f"
   ]
  },
  {
   "cell_type": "code",
   "execution_count": 97,
   "id": "ignored-maple",
   "metadata": {},
   "outputs": [],
   "source": [
    "a = faces[:, 0] == faces[:,1]"
   ]
  },
  {
   "cell_type": "code",
   "execution_count": 98,
   "id": "convinced-criminal",
   "metadata": {},
   "outputs": [],
   "source": [
    "b = faces[:, 1] == faces[:,2]"
   ]
  },
  {
   "cell_type": "code",
   "execution_count": 99,
   "id": "sudden-paper",
   "metadata": {},
   "outputs": [],
   "source": [
    "c = faces[:, 2] == faces[:,0]"
   ]
  },
  {
   "cell_type": "code",
   "execution_count": 105,
   "id": "turned-bhutan",
   "metadata": {},
   "outputs": [],
   "source": [
    "faces_to_keep = np.logical_not(np.logical_or(a, np.logical_or(b, c)))"
   ]
  },
  {
   "cell_type": "code",
   "execution_count": 95,
   "id": "registered-footwear",
   "metadata": {},
   "outputs": [
    {
     "data": {
      "text/plain": [
       "array([0, 1, 2, 3], dtype=uint32)"
      ]
     },
     "execution_count": 95,
     "metadata": {},
     "output_type": "execute_result"
    }
   ],
   "source": [
    "\n",
    "faces[:,0]"
   ]
  },
  {
   "cell_type": "code",
   "execution_count": 96,
   "id": "given-offer",
   "metadata": {},
   "outputs": [
    {
     "data": {
      "text/plain": [
       "array([1, 2, 3, 0], dtype=uint32)"
      ]
     },
     "execution_count": 96,
     "metadata": {},
     "output_type": "execute_result"
    }
   ],
   "source": [
    "faces[:,1]"
   ]
  },
  {
   "cell_type": "code",
   "execution_count": 106,
   "id": "yellow-catalog",
   "metadata": {},
   "outputs": [
    {
     "data": {
      "text/plain": [
       "array([[0, 1, 4],\n",
       "       [1, 2, 4],\n",
       "       [2, 3, 4],\n",
       "       [3, 0, 4]], dtype=uint32)"
      ]
     },
     "execution_count": 106,
     "metadata": {},
     "output_type": "execute_result"
    }
   ],
   "source": [
    "faces[faces_to_keep, :]"
   ]
  },
  {
   "cell_type": "code",
   "execution_count": 112,
   "id": "atomic-council",
   "metadata": {},
   "outputs": [
    {
     "data": {
      "text/plain": [
       "array([0, 1, 2, 3, 4], dtype=uint32)"
      ]
     },
     "execution_count": 112,
     "metadata": {},
     "output_type": "execute_result"
    }
   ],
   "source": [
    "vertices_left = np.unique(faces.flatten())\n",
    "vertices_left"
   ]
  },
  {
   "cell_type": "code",
   "execution_count": 114,
   "id": "thirty-preliminary",
   "metadata": {},
   "outputs": [
    {
     "data": {
      "text/plain": [
       "array([0, 1, 2, 3, 4])"
      ]
     },
     "execution_count": 114,
     "metadata": {},
     "output_type": "execute_result"
    }
   ],
   "source": [
    "IS = np.arange(len(vertices_left))\n",
    "IS"
   ]
  },
  {
   "cell_type": "code",
   "execution_count": 118,
   "id": "secret-insider",
   "metadata": {},
   "outputs": [
    {
     "data": {
      "text/plain": [
       "array([ 0,  1,  2,  3,  4,  5,  6,  7,  8,  9, 10, 11, 12, 13, 14, 15, 16,\n",
       "       17, 18, 19])"
      ]
     },
     "execution_count": 118,
     "metadata": {},
     "output_type": "execute_result"
    }
   ],
   "source": [
    "np.arange(20)"
   ]
  },
  {
   "cell_type": "code",
   "execution_count": 119,
   "id": "interior-overview",
   "metadata": {},
   "outputs": [],
   "source": [
    "def get_sparse_transformation(faces, num_original_vertices):\n",
    "    \"\"\"\n",
    "    Create sparse transformation matrix that tells us which faces to actually remove\n",
    "\n",
    "\n",
    "    \"\"\"\n",
    "    vertices_left = np.unique(faces.flatten())\n",
    "    IS = np.arange(len(vertices_left))\n",
    "    JS = vertices_left\n",
    "    data = np.ones(len(JS))\n",
    "\n",
    "    mp = np.arange(0, np.max(faces.flatten()) + 1)\n",
    "    mp[JS] = IS\n",
    "    new_faces = mp[faces.copy().flatten()].reshape((-1, 3))\n",
    "\n",
    "    ij = np.vstack((IS.flatten(), JS.flatten()))\n",
    "    mtx = sparse.csc_matrix((data, ij), shape=(len(vertices_left), num_original_vertices))\n",
    "\n",
    "    return (new_faces, mtx)"
   ]
  },
  {
   "cell_type": "code",
   "execution_count": 136,
   "id": "temporal-charter",
   "metadata": {},
   "outputs": [],
   "source": [
    "faces = np.array([[1,2,4],[2,3,4]])\n"
   ]
  },
  {
   "cell_type": "code",
   "execution_count": 137,
   "id": "understood-undergraduate",
   "metadata": {},
   "outputs": [],
   "source": [
    "(new_faces, mtx) = get_sparse_transformation(faces, 5)"
   ]
  },
  {
   "cell_type": "code",
   "execution_count": 138,
   "id": "southern-silver",
   "metadata": {},
   "outputs": [
    {
     "data": {
      "text/plain": [
       "array([[0, 1, 3],\n",
       "       [1, 2, 3]])"
      ]
     },
     "execution_count": 138,
     "metadata": {},
     "output_type": "execute_result"
    }
   ],
   "source": [
    "new_faces"
   ]
  },
  {
   "cell_type": "code",
   "execution_count": 139,
   "id": "beginning-coupon",
   "metadata": {},
   "outputs": [
    {
     "name": "stdout",
     "output_type": "stream",
     "text": [
      "  (0, 1)\t1.0\n",
      "  (1, 2)\t1.0\n",
      "  (2, 3)\t1.0\n",
      "  (3, 4)\t1.0\n"
     ]
    }
   ],
   "source": [
    "print(mtx)"
   ]
  },
  {
   "cell_type": "code",
   "execution_count": 141,
   "id": "minute-pastor",
   "metadata": {},
   "outputs": [
    {
     "data": {
      "text/plain": [
       "array([0., 0., 0., 0., 0., 0., 0., 0., 0., 0., 0., 0., 0., 0., 0.])"
      ]
     },
     "execution_count": 141,
     "metadata": {},
     "output_type": "execute_result"
    }
   ],
   "source": [
    "np.zeros(3* mesh.v.shape[0])"
   ]
  },
  {
   "cell_type": "code",
   "execution_count": 142,
   "id": "fitting-behavior",
   "metadata": {},
   "outputs": [
    {
     "ename": "NameError",
     "evalue": "name 'source' is not defined",
     "output_type": "error",
     "traceback": [
      "\u001b[0;31m---------------------------------------------------------------------------\u001b[0m",
      "\u001b[0;31mNameError\u001b[0m                                 Traceback (most recent call last)",
      "\u001b[0;32m<ipython-input-142-ee3a7a3a21fc>\u001b[0m in \u001b[0;36m<module>\u001b[0;34m\u001b[0m\n\u001b[0;32m----> 1\u001b[0;31m \u001b[0msource\u001b[0m\u001b[0;34m.\u001b[0m\u001b[0mcompute_aabb_tree\u001b[0m\u001b[0;34m(\u001b[0m\u001b[0;34m)\u001b[0m\u001b[0;34m\u001b[0m\u001b[0;34m\u001b[0m\u001b[0m\n\u001b[0m",
      "\u001b[0;31mNameError\u001b[0m: name 'source' is not defined"
     ]
    }
   ],
   "source": [
    "source.compute_aabb_tree()"
   ]
  },
  {
   "cell_type": "code",
   "execution_count": 143,
   "id": "posted-companion",
   "metadata": {},
   "outputs": [
    {
     "data": {
      "text/plain": [
       "range(0, 5)"
      ]
     },
     "execution_count": 143,
     "metadata": {},
     "output_type": "execute_result"
    }
   ],
   "source": [
    "range(mesh.v.shape[0])"
   ]
  },
  {
   "cell_type": "code",
   "execution_count": null,
   "id": "muslim-prime",
   "metadata": {},
   "outputs": [],
   "source": []
  }
 ],
 "metadata": {
  "kernelspec": {
   "display_name": "Python 3",
   "language": "python",
   "name": "python3"
  },
  "language_info": {
   "codemirror_mode": {
    "name": "ipython",
    "version": 3
   },
   "file_extension": ".py",
   "mimetype": "text/x-python",
   "name": "python",
   "nbconvert_exporter": "python",
   "pygments_lexer": "ipython3",
   "version": "3.8.5"
  }
 },
 "nbformat": 4,
 "nbformat_minor": 5
}
